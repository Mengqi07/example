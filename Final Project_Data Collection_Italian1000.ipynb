{
 "cells": [
  {
   "cell_type": "code",
   "execution_count": 10,
   "metadata": {},
   "outputs": [],
   "source": [
    "import warnings\n",
    "warnings.filterwarnings(\"ignore\")\n",
    "\n",
    "import numpy as np\n",
    "import pandas as pd\n",
    "import geopandas as gpd\n",
    "from shapely.geometry import shape\n",
    "\n",
    "from urllib.parse import urlencode\n",
    "import urllib.request, json \n",
    "\n",
    "import matplotlib.pyplot as plt\n",
    "import seaborn as sns # visualization styling package\n",
    "%matplotlib inline \n",
    "\n",
    "import requests\n",
    "import json"
   ]
  },
  {
   "cell_type": "code",
   "execution_count": 11,
   "metadata": {},
   "outputs": [],
   "source": [
    "api_key = '3smzQBF0JGHnhSZWyzDIKxy2S6DKk9C0tPx_J7Cohgwc6Hjp5g_g8SycTy3Ani74c0EPQ9d2QlJqooZ4EEfXNtxlD6TBJFvD4Vri4Mc9iUBnoIookKggwnMQrBexX3Yx'\n",
    "headers = {'Authorization':'Bearer %s'% api_key}\n",
    "url1 = 'https://api.yelp.com/v3/businesses/search'\n",
    "params1 = {'location':\"New York City\",'categories':'Italian','limit':\"50\"}\n",
    "req1 = requests.get(url1, params = params1, headers = headers)\n",
    "reqs1 = json.loads(req1.text)"
   ]
  },
  {
   "cell_type": "code",
   "execution_count": 12,
   "metadata": {},
   "outputs": [],
   "source": [
    "api_key = '3smzQBF0JGHnhSZWyzDIKxy2S6DKk9C0tPx_J7Cohgwc6Hjp5g_g8SycTy3Ani74c0EPQ9d2QlJqooZ4EEfXNtxlD6TBJFvD4Vri4Mc9iUBnoIookKggwnMQrBexX3Yx'\n",
    "headers = {'Authorization':'Bearer %s'% api_key}\n",
    "url = 'https://api.yelp.com/v3/businesses/search'\n",
    "params2 = {'location':\"New York City\",'categories':'Italian', \"offset\": '50','limit':\"50\"}\n",
    "req2 = requests.get(url, params = params2, headers = headers)\n",
    "reqs2 = json.loads(req2.text)"
   ]
  },
  {
   "cell_type": "code",
   "execution_count": 13,
   "metadata": {},
   "outputs": [],
   "source": [
    "api_key = '3smzQBF0JGHnhSZWyzDIKxy2S6DKk9C0tPx_J7Cohgwc6Hjp5g_g8SycTy3Ani74c0EPQ9d2QlJqooZ4EEfXNtxlD6TBJFvD4Vri4Mc9iUBnoIookKggwnMQrBexX3Yx'\n",
    "headers = {'Authorization':'Bearer %s'% api_key}\n",
    "url = 'https://api.yelp.com/v3/businesses/search'\n",
    "params3 = {'location':\"New York City\",'categories':'Italian', \"offset\": '100','limit':\"50\"}\n",
    "req3 = requests.get(url, params = params3, headers = headers)\n",
    "reqs3 = json.loads(req3.text)"
   ]
  },
  {
   "cell_type": "code",
   "execution_count": 14,
   "metadata": {},
   "outputs": [],
   "source": [
    "api_key = '3smzQBF0JGHnhSZWyzDIKxy2S6DKk9C0tPx_J7Cohgwc6Hjp5g_g8SycTy3Ani74c0EPQ9d2QlJqooZ4EEfXNtxlD6TBJFvD4Vri4Mc9iUBnoIookKggwnMQrBexX3Yx'\n",
    "headers = {'Authorization':'Bearer %s'% api_key}\n",
    "url = 'https://api.yelp.com/v3/businesses/search'\n",
    "params4 = {'location':\"New York City\",'categories':'Italian', \"offset\": '150','limit':\"50\"}\n",
    "req4 = requests.get(url, params = params4, headers = headers)\n",
    "reqs4 = json.loads(req4.text)"
   ]
  },
  {
   "cell_type": "code",
   "execution_count": 15,
   "metadata": {},
   "outputs": [],
   "source": [
    "api_key = '3smzQBF0JGHnhSZWyzDIKxy2S6DKk9C0tPx_J7Cohgwc6Hjp5g_g8SycTy3Ani74c0EPQ9d2QlJqooZ4EEfXNtxlD6TBJFvD4Vri4Mc9iUBnoIookKggwnMQrBexX3Yx'\n",
    "headers = {'Authorization':'Bearer %s'% api_key}\n",
    "url = 'https://api.yelp.com/v3/businesses/search'\n",
    "params5 = {'location':\"New York City\",'categories':'Italian', \"offset\": '200','limit':\"50\"}\n",
    "req5 = requests.get(url, params = params5, headers = headers)\n",
    "reqs5 = json.loads(req5.text)"
   ]
  },
  {
   "cell_type": "code",
   "execution_count": 16,
   "metadata": {},
   "outputs": [],
   "source": [
    "api_key = '3smzQBF0JGHnhSZWyzDIKxy2S6DKk9C0tPx_J7Cohgwc6Hjp5g_g8SycTy3Ani74c0EPQ9d2QlJqooZ4EEfXNtxlD6TBJFvD4Vri4Mc9iUBnoIookKggwnMQrBexX3Yx'\n",
    "headers = {'Authorization':'Bearer %s'% api_key}\n",
    "url = 'https://api.yelp.com/v3/businesses/search'\n",
    "params6 = {'location':\"New York City\",'categories':'Italian', \"offset\": '250','limit':\"50\"}\n",
    "req6 = requests.get(url, params = params6, headers = headers)\n",
    "reqs6 = json.loads(req6.text)"
   ]
  },
  {
   "cell_type": "code",
   "execution_count": 17,
   "metadata": {},
   "outputs": [],
   "source": [
    "api_key = '3smzQBF0JGHnhSZWyzDIKxy2S6DKk9C0tPx_J7Cohgwc6Hjp5g_g8SycTy3Ani74c0EPQ9d2QlJqooZ4EEfXNtxlD6TBJFvD4Vri4Mc9iUBnoIookKggwnMQrBexX3Yx'\n",
    "headers = {'Authorization':'Bearer %s'% api_key}\n",
    "url = 'https://api.yelp.com/v3/businesses/search'\n",
    "params7 = {'location':\"New York City\",'categories':'Italian', \"offset\": '300','limit':\"50\"}\n",
    "req7 = requests.get(url, params = params7, headers = headers)\n",
    "reqs7 = json.loads(req7.text)"
   ]
  },
  {
   "cell_type": "code",
   "execution_count": 18,
   "metadata": {},
   "outputs": [],
   "source": [
    "api_key = '3smzQBF0JGHnhSZWyzDIKxy2S6DKk9C0tPx_J7Cohgwc6Hjp5g_g8SycTy3Ani74c0EPQ9d2QlJqooZ4EEfXNtxlD6TBJFvD4Vri4Mc9iUBnoIookKggwnMQrBexX3Yx'\n",
    "headers = {'Authorization':'Bearer %s'% api_key}\n",
    "url = 'https://api.yelp.com/v3/businesses/search'\n",
    "params8 = {'location':\"New York City\",'categories':'Italian', \"offset\": '350','limit':\"50\"}\n",
    "req8 = requests.get(url, params = params8, headers = headers)\n",
    "reqs8 = json.loads(req8.text)"
   ]
  },
  {
   "cell_type": "code",
   "execution_count": 19,
   "metadata": {},
   "outputs": [],
   "source": [
    "api_key = '3smzQBF0JGHnhSZWyzDIKxy2S6DKk9C0tPx_J7Cohgwc6Hjp5g_g8SycTy3Ani74c0EPQ9d2QlJqooZ4EEfXNtxlD6TBJFvD4Vri4Mc9iUBnoIookKggwnMQrBexX3Yx'\n",
    "headers = {'Authorization':'Bearer %s'% api_key}\n",
    "url = 'https://api.yelp.com/v3/businesses/search'\n",
    "params9 = {'location':\"New York City\",'categories':'Italian', \"offset\": '400','limit':\"50\"}\n",
    "req9 = requests.get(url, params = params9, headers = headers)\n",
    "reqs9 = json.loads(req9.text)"
   ]
  },
  {
   "cell_type": "code",
   "execution_count": 20,
   "metadata": {},
   "outputs": [],
   "source": [
    "api_key = '3smzQBF0JGHnhSZWyzDIKxy2S6DKk9C0tPx_J7Cohgwc6Hjp5g_g8SycTy3Ani74c0EPQ9d2QlJqooZ4EEfXNtxlD6TBJFvD4Vri4Mc9iUBnoIookKggwnMQrBexX3Yx'\n",
    "headers = {'Authorization':'Bearer %s'% api_key}\n",
    "url = 'https://api.yelp.com/v3/businesses/search'\n",
    "params10 = {'location':\"New York City\",'categories':'Italian', \"offset\": '450','limit':\"50\"}\n",
    "req10 = requests.get(url, params = params10, headers = headers)\n",
    "reqs10 = json.loads(req10.text)"
   ]
  },
  {
   "cell_type": "code",
   "execution_count": 21,
   "metadata": {},
   "outputs": [],
   "source": [
    "api_key = '3smzQBF0JGHnhSZWyzDIKxy2S6DKk9C0tPx_J7Cohgwc6Hjp5g_g8SycTy3Ani74c0EPQ9d2QlJqooZ4EEfXNtxlD6TBJFvD4Vri4Mc9iUBnoIookKggwnMQrBexX3Yx'\n",
    "headers = {'Authorization':'Bearer %s'% api_key}\n",
    "url = 'https://api.yelp.com/v3/businesses/search'\n",
    "params11 = {'location':\"New York City\",'categories':'Italian', \"offset\": '500','limit':\"50\"}\n",
    "req11 = requests.get(url, params = params11, headers = headers)\n",
    "reqs11 = json.loads(req11.text)"
   ]
  },
  {
   "cell_type": "code",
   "execution_count": 22,
   "metadata": {},
   "outputs": [],
   "source": [
    "api_key = '3smzQBF0JGHnhSZWyzDIKxy2S6DKk9C0tPx_J7Cohgwc6Hjp5g_g8SycTy3Ani74c0EPQ9d2QlJqooZ4EEfXNtxlD6TBJFvD4Vri4Mc9iUBnoIookKggwnMQrBexX3Yx'\n",
    "headers = {'Authorization':'Bearer %s'% api_key}\n",
    "url = 'https://api.yelp.com/v3/businesses/search'\n",
    "params12 = {'location':\"New York City\",'categories':'Italian', \"offset\": '550','limit':\"50\"}\n",
    "req12 = requests.get(url, params = params12, headers = headers)\n",
    "reqs12 = json.loads(req12.text)"
   ]
  },
  {
   "cell_type": "code",
   "execution_count": 23,
   "metadata": {},
   "outputs": [],
   "source": [
    "api_key = '3smzQBF0JGHnhSZWyzDIKxy2S6DKk9C0tPx_J7Cohgwc6Hjp5g_g8SycTy3Ani74c0EPQ9d2QlJqooZ4EEfXNtxlD6TBJFvD4Vri4Mc9iUBnoIookKggwnMQrBexX3Yx'\n",
    "headers = {'Authorization':'Bearer %s'% api_key}\n",
    "url = 'https://api.yelp.com/v3/businesses/search'\n",
    "params13 = {'location':\"New York City\",'categories':'Italian', \"offset\": '600','limit':\"50\"}\n",
    "req13 = requests.get(url, params = params13, headers = headers)\n",
    "reqs13 = json.loads(req13.text)"
   ]
  },
  {
   "cell_type": "code",
   "execution_count": 24,
   "metadata": {},
   "outputs": [],
   "source": [
    "api_key = '3smzQBF0JGHnhSZWyzDIKxy2S6DKk9C0tPx_J7Cohgwc6Hjp5g_g8SycTy3Ani74c0EPQ9d2QlJqooZ4EEfXNtxlD6TBJFvD4Vri4Mc9iUBnoIookKggwnMQrBexX3Yx'\n",
    "headers = {'Authorization':'Bearer %s'% api_key}\n",
    "url = 'https://api.yelp.com/v3/businesses/search'\n",
    "params14 = {'location':\"New York City\",'categories':'Italian', \"offset\": '650','limit':\"50\"}\n",
    "req14 = requests.get(url, params = params14, headers = headers)\n",
    "reqs14 = json.loads(req14.text)"
   ]
  },
  {
   "cell_type": "code",
   "execution_count": 25,
   "metadata": {},
   "outputs": [],
   "source": [
    "api_key = '3smzQBF0JGHnhSZWyzDIKxy2S6DKk9C0tPx_J7Cohgwc6Hjp5g_g8SycTy3Ani74c0EPQ9d2QlJqooZ4EEfXNtxlD6TBJFvD4Vri4Mc9iUBnoIookKggwnMQrBexX3Yx'\n",
    "headers = {'Authorization':'Bearer %s'% api_key}\n",
    "url = 'https://api.yelp.com/v3/businesses/search'\n",
    "params15 = {'location':\"New York City\",'categories':'Italian', \"offset\": '700','limit':\"50\"}\n",
    "req15 = requests.get(url, params = params15, headers = headers)\n",
    "reqs15 = json.loads(req15.text)"
   ]
  },
  {
   "cell_type": "code",
   "execution_count": 26,
   "metadata": {},
   "outputs": [],
   "source": [
    "api_key = '3smzQBF0JGHnhSZWyzDIKxy2S6DKk9C0tPx_J7Cohgwc6Hjp5g_g8SycTy3Ani74c0EPQ9d2QlJqooZ4EEfXNtxlD6TBJFvD4Vri4Mc9iUBnoIookKggwnMQrBexX3Yx'\n",
    "headers = {'Authorization':'Bearer %s'% api_key}\n",
    "url = 'https://api.yelp.com/v3/businesses/search'\n",
    "params16 = {'location':\"New York City\",'categories':'Italian', \"offset\": '750','limit':\"50\"}\n",
    "req16 = requests.get(url, params = params16, headers = headers)\n",
    "reqs16 = json.loads(req16.text)"
   ]
  },
  {
   "cell_type": "code",
   "execution_count": 27,
   "metadata": {},
   "outputs": [],
   "source": [
    "api_key = '3smzQBF0JGHnhSZWyzDIKxy2S6DKk9C0tPx_J7Cohgwc6Hjp5g_g8SycTy3Ani74c0EPQ9d2QlJqooZ4EEfXNtxlD6TBJFvD4Vri4Mc9iUBnoIookKggwnMQrBexX3Yx'\n",
    "headers = {'Authorization':'Bearer %s'% api_key}\n",
    "url = 'https://api.yelp.com/v3/businesses/search'\n",
    "params17 = {'location':\"New York City\",'categories':'Italian', \"offset\": '800','limit':\"50\"}\n",
    "req17 = requests.get(url, params = params17, headers = headers)\n",
    "reqs17 = json.loads(req17.text)"
   ]
  },
  {
   "cell_type": "code",
   "execution_count": 28,
   "metadata": {},
   "outputs": [],
   "source": [
    "api_key = '3smzQBF0JGHnhSZWyzDIKxy2S6DKk9C0tPx_J7Cohgwc6Hjp5g_g8SycTy3Ani74c0EPQ9d2QlJqooZ4EEfXNtxlD6TBJFvD4Vri4Mc9iUBnoIookKggwnMQrBexX3Yx'\n",
    "headers = {'Authorization':'Bearer %s'% api_key}\n",
    "url = 'https://api.yelp.com/v3/businesses/search'\n",
    "params18 = {'location':\"New York City\",'categories':'Italian', \"offset\": '850','limit':\"50\"}\n",
    "req18 = requests.get(url, params = params18, headers = headers)\n",
    "reqs18 = json.loads(req18.text)"
   ]
  },
  {
   "cell_type": "code",
   "execution_count": 29,
   "metadata": {},
   "outputs": [],
   "source": [
    "api_key = '3smzQBF0JGHnhSZWyzDIKxy2S6DKk9C0tPx_J7Cohgwc6Hjp5g_g8SycTy3Ani74c0EPQ9d2QlJqooZ4EEfXNtxlD6TBJFvD4Vri4Mc9iUBnoIookKggwnMQrBexX3Yx'\n",
    "headers = {'Authorization':'Bearer %s'% api_key}\n",
    "url = 'https://api.yelp.com/v3/businesses/search'\n",
    "params19 = {'location':\"New York City\",'categories':'Italian', \"offset\": '900','limit':\"50\"}\n",
    "req19 = requests.get(url, params = params19, headers = headers)\n",
    "reqs19 = json.loads(req19.text)"
   ]
  },
  {
   "cell_type": "code",
   "execution_count": 30,
   "metadata": {},
   "outputs": [],
   "source": [
    "api_key = '3smzQBF0JGHnhSZWyzDIKxy2S6DKk9C0tPx_J7Cohgwc6Hjp5g_g8SycTy3Ani74c0EPQ9d2QlJqooZ4EEfXNtxlD6TBJFvD4Vri4Mc9iUBnoIookKggwnMQrBexX3Yx'\n",
    "headers = {'Authorization':'Bearer %s'% api_key}\n",
    "url = 'https://api.yelp.com/v3/businesses/search'\n",
    "params20 = {'location':\"New York City\",'categories':'Italian', \"offset\": '950','limit':\"50\"}\n",
    "req20 = requests.get(url, params = params20, headers = headers)\n",
    "reqs20 = json.loads(req20.text)"
   ]
  },
  {
   "cell_type": "code",
   "execution_count": 31,
   "metadata": {},
   "outputs": [],
   "source": [
    "for i in range(1,21):\n",
    "    globals()['parsed%s' % i] = json.loads(globals()['req%s' % i].text)"
   ]
  },
  {
   "cell_type": "code",
   "execution_count": 32,
   "metadata": {},
   "outputs": [],
   "source": [
    "for i in range(1,21):\n",
    "    globals()['businesses%s' % i] = globals()['parsed%s' % i][\"businesses\"]"
   ]
  },
  {
   "cell_type": "code",
   "execution_count": 33,
   "metadata": {},
   "outputs": [],
   "source": [
    "for i in range(1,21) :\n",
    "        name, rating, review_count,address, latitude, longitude = [], [], [], [], [],[] \n",
    "        for b in  globals()['businesses%s' % i]:\n",
    "            name.append(b['name'])\n",
    "            rating.append(b['rating'])\n",
    "            address.append(b['location']['display_address'])\n",
    "            latitude.append(b['coordinates']['latitude'])\n",
    "            longitude.append(b['coordinates']['longitude'])\n",
    "            review_count.append(b['review_count'])\n",
    "            \n",
    "        globals()['df%s' % i] = pd.DataFrame()\n",
    "        globals()['df%s' % i]['name'] = name\n",
    "        globals()['df%s' % i]['rating'] = rating\n",
    "        globals()['df%s' % i]['review_count'] = review_count\n",
    "        globals()['df%s' % i]['address'] = address\n",
    "        globals()['df%s' % i]['latitude'] = latitude\n",
    "        globals()['df%s' % i]['longitude'] = longitude"
   ]
  },
  {
   "cell_type": "code",
   "execution_count": 34,
   "metadata": {},
   "outputs": [],
   "source": [
    "frames = []\n",
    "for i in range(1,21):\n",
    "    frames.append(globals()['df%s' % i])\n",
    "\n",
    "result = pd.concat(frames)"
   ]
  },
  {
   "cell_type": "code",
   "execution_count": 38,
   "metadata": {},
   "outputs": [
    {
     "data": {
      "text/html": [
       "<div>\n",
       "<style scoped>\n",
       "    .dataframe tbody tr th:only-of-type {\n",
       "        vertical-align: middle;\n",
       "    }\n",
       "\n",
       "    .dataframe tbody tr th {\n",
       "        vertical-align: top;\n",
       "    }\n",
       "\n",
       "    .dataframe thead th {\n",
       "        text-align: right;\n",
       "    }\n",
       "</style>\n",
       "<table border=\"1\" class=\"dataframe\">\n",
       "  <thead>\n",
       "    <tr style=\"text-align: right;\">\n",
       "      <th></th>\n",
       "      <th>name</th>\n",
       "      <th>rating</th>\n",
       "      <th>review_count</th>\n",
       "      <th>address</th>\n",
       "      <th>latitude</th>\n",
       "      <th>longitude</th>\n",
       "    </tr>\n",
       "  </thead>\n",
       "  <tbody>\n",
       "    <tr>\n",
       "      <th>0</th>\n",
       "      <td>Katz's Delicatessen</td>\n",
       "      <td>4.0</td>\n",
       "      <td>12471</td>\n",
       "      <td>[205 E Houston St, New York, NY 10002]</td>\n",
       "      <td>40.722237</td>\n",
       "      <td>-73.987526</td>\n",
       "    </tr>\n",
       "    <tr>\n",
       "      <th>1</th>\n",
       "      <td>Ippudo NY</td>\n",
       "      <td>4.0</td>\n",
       "      <td>10007</td>\n",
       "      <td>[65 4th Ave, New York, NY 10003]</td>\n",
       "      <td>40.730920</td>\n",
       "      <td>-73.990150</td>\n",
       "    </tr>\n",
       "    <tr>\n",
       "      <th>2</th>\n",
       "      <td>The Halal Guys</td>\n",
       "      <td>4.0</td>\n",
       "      <td>9525</td>\n",
       "      <td>[W 53rd St, New York, NY 10019]</td>\n",
       "      <td>40.761861</td>\n",
       "      <td>-73.979306</td>\n",
       "    </tr>\n",
       "    <tr>\n",
       "      <th>3</th>\n",
       "      <td>The Metropolitan Museum of Art</td>\n",
       "      <td>4.5</td>\n",
       "      <td>2911</td>\n",
       "      <td>[1000 5th Ave, New York, NY 10028]</td>\n",
       "      <td>40.779449</td>\n",
       "      <td>-73.963245</td>\n",
       "    </tr>\n",
       "    <tr>\n",
       "      <th>4</th>\n",
       "      <td>Central Park</td>\n",
       "      <td>5.0</td>\n",
       "      <td>2499</td>\n",
       "      <td>[14 E 60th St, Central Park Conservancy, New Y...</td>\n",
       "      <td>40.782419</td>\n",
       "      <td>-73.965602</td>\n",
       "    </tr>\n",
       "  </tbody>\n",
       "</table>\n",
       "</div>"
      ],
      "text/plain": [
       "                             name  rating  review_count  \\\n",
       "0             Katz's Delicatessen     4.0         12471   \n",
       "1                       Ippudo NY     4.0         10007   \n",
       "2                  The Halal Guys     4.0          9525   \n",
       "3  The Metropolitan Museum of Art     4.5          2911   \n",
       "4                    Central Park     5.0          2499   \n",
       "\n",
       "                                             address   latitude  longitude  \n",
       "0             [205 E Houston St, New York, NY 10002]  40.722237 -73.987526  \n",
       "1                   [65 4th Ave, New York, NY 10003]  40.730920 -73.990150  \n",
       "2                    [W 53rd St, New York, NY 10019]  40.761861 -73.979306  \n",
       "3                 [1000 5th Ave, New York, NY 10028]  40.779449 -73.963245  \n",
       "4  [14 E 60th St, Central Park Conservancy, New Y...  40.782419 -73.965602  "
      ]
     },
     "execution_count": 38,
     "metadata": {},
     "output_type": "execute_result"
    }
   ],
   "source": [
    "result.head()"
   ]
  },
  {
   "cell_type": "code",
   "execution_count": 35,
   "metadata": {},
   "outputs": [],
   "source": [
    "result.to_csv('../output/1000Italian12_6.csv')"
   ]
  },
  {
   "cell_type": "code",
   "execution_count": null,
   "metadata": {},
   "outputs": [],
   "source": []
  },
  {
   "cell_type": "code",
   "execution_count": null,
   "metadata": {},
   "outputs": [],
   "source": []
  },
  {
   "cell_type": "code",
   "execution_count": null,
   "metadata": {},
   "outputs": [],
   "source": []
  },
  {
   "cell_type": "code",
   "execution_count": null,
   "metadata": {},
   "outputs": [],
   "source": []
  }
 ],
 "metadata": {
  "kernelspec": {
   "display_name": "Python 3",
   "language": "python",
   "name": "python3"
  },
  "language_info": {
   "codemirror_mode": {
    "name": "ipython",
    "version": 3
   },
   "file_extension": ".py",
   "mimetype": "text/x-python",
   "name": "python",
   "nbconvert_exporter": "python",
   "pygments_lexer": "ipython3",
   "version": "3.7.4"
  }
 },
 "nbformat": 4,
 "nbformat_minor": 4
}
